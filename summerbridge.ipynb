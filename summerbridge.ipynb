{
 "cells": [
  {
   "cell_type": "code",
   "execution_count": null,
   "id": "a42199b0-c909-430d-87bb-f22b29a0e06e",
   "metadata": {},
   "outputs": [],
   "source": [
    "5-6"
   ]
  },
  {
   "cell_type": "code",
   "execution_count": null,
   "id": "a160ebb5-0227-4473-b13b-f34def854797",
   "metadata": {},
   "outputs": [],
   "source": [
    "print(\"hello\")\n"
   ]
  },
  {
   "cell_type": "code",
   "execution_count": null,
   "id": "792780fb-86bd-47f1-854f-2a427f7a8f1f",
   "metadata": {},
   "outputs": [],
   "source": [
    "print(7)"
   ]
  },
  {
   "cell_type": "code",
   "execution_count": null,
   "id": "fc860146-1e25-47dd-9640-f5f3f8017dd8",
   "metadata": {},
   "outputs": [],
   "source": [
    "name = \"Valeria\"\n",
    "age = 23"
   ]
  },
  {
   "cell_type": "code",
   "execution_count": null,
   "id": "f2bd0772-aae7-4cce-9149-80267a5b7c05",
   "metadata": {},
   "outputs": [],
   "source": [
    "print(age) "
   ]
  },
  {
   "cell_type": "code",
   "execution_count": null,
   "id": "26258d0f-74ac-4973-891d-2b1ed9c56034",
   "metadata": {},
   "outputs": [],
   "source": [
    "# This is a comment. It will not run\n",
    "# You can echo values without using print in this notebook\n",
    "name"
   ]
  },
  {
   "cell_type": "markdown",
   "id": "18dc365c-8843-49ce-b28c-f04308646526",
   "metadata": {},
   "source": [
    "# Variables and Values"
   ]
  },
  {
   "cell_type": "code",
   "execution_count": null,
   "id": "1769bd42-b05c-4015-ac74-816893e92940",
   "metadata": {},
   "outputs": [],
   "source": [
    "# Variables can be used in calculations\n",
    "print(age)\n",
    "age = age + 3\n",
    "print(age)"
   ]
  },
  {
   "cell_type": "code",
   "execution_count": null,
   "id": "da070f16-7972-4ef9-b925-a1faef811b7a",
   "metadata": {},
   "outputs": [],
   "source": [
    "# Order of operations matters!\n",
    "first = 1\n",
    "second = first * 5\n",
    "first = 2\n",
    "\n",
    "print(first)\n",
    "print(second)"
   ]
  },
  {
   "cell_type": "code",
   "execution_count": null,
   "id": "ba071f41-1889-4ffe-bd6a-e6419f9a46f4",
   "metadata": {},
   "outputs": [],
   "source": [
    "#Values have types. Types affect what you can do with them.\n",
    "print(5-3)\n",
    "#print(\"Hello\"-\"H\")"
   ]
  },
  {
   "cell_type": "code",
   "execution_count": null,
   "id": "ee3878a6-b88a-4e0b-b4c2-65cc2bf135e3",
   "metadata": {},
   "outputs": [],
   "source": [
    "print(len(\"hello\"))\n",
    "#print(len(6))"
   ]
  },
  {
   "cell_type": "code",
   "execution_count": null,
   "id": "401d5df6-fe51-4bd8-9471-52572301465f",
   "metadata": {},
   "outputs": [],
   "source": [
    "print(5//3)\n",
    "print(5/3)\n",
    "print(5%3)"
   ]
  },
  {
   "cell_type": "markdown",
   "id": "75ced208-369c-40ce-b042-e1836d0c9519",
   "metadata": {},
   "source": [
    "# Getting help"
   ]
  },
  {
   "cell_type": "code",
   "execution_count": null,
   "id": "494405ff-363a-42be-9dc1-4299c9b794ea",
   "metadata": {},
   "outputs": [],
   "source": [
    "# Rounding numbers is built in\n",
    "round(3.141159)"
   ]
  },
  {
   "cell_type": "code",
   "execution_count": null,
   "id": "10109f4e-0daf-4258-a415-d4f3864a7569",
   "metadata": {},
   "outputs": [],
   "source": [
    "#rount(3.14159, 2)"
   ]
  },
  {
   "cell_type": "code",
   "execution_count": null,
   "id": "a7361491-e42e-40a9-aa99-c98ddb7eb097",
   "metadata": {},
   "outputs": [],
   "source": [
    "round(3.14159,2)"
   ]
  },
  {
   "cell_type": "code",
   "execution_count": null,
   "id": "288af01c-e191-4e5c-86e0-0ef660303864",
   "metadata": {},
   "outputs": [],
   "source": [
    "help(round)"
   ]
  },
  {
   "cell_type": "code",
   "execution_count": null,
   "id": "31a4b008-9363-4906-88d3-06943144053a",
   "metadata": {},
   "outputs": [],
   "source": [
    "#round(3.14159, ndiigits=2)"
   ]
  },
  {
   "cell_type": "code",
   "execution_count": null,
   "id": "566d1e83-60ac-4815-a35b-fd82deaa115b",
   "metadata": {},
   "outputs": [],
   "source": [
    "round(3.14159, ndigits=2)"
   ]
  },
  {
   "cell_type": "code",
   "execution_count": null,
   "id": "ff7c87e6-d3bd-491b-8287-149cd89e2320",
   "metadata": {},
   "outputs": [],
   "source": [
    "#All functions return a new values\n",
    "rounded_pi = round(3.14159,2)\n",
    "print(rounded_pi)"
   ]
  },
  {
   "cell_type": "markdown",
   "id": "3ef11501-9795-4a8d-a4e7-1deca78a2384",
   "metadata": {},
   "source": [
    "## Challenge\n",
    "\n",
    "In what order do the operations happen?\n",
    "\n",
    "radiance= 1.0\n",
    "radiance= max(2.1,2.0 + min(radiance, 1.1 * radiance-0.5))"
   ]
  },
  {
   "cell_type": "code",
   "execution_count": null,
   "id": "e6bbac11-c98a-45ee-ab58-18730aac31cd",
   "metadata": {},
   "outputs": [],
   "source": [
    "radiance= 1.0 \n",
    "radiance=max(2.1,2.0 + min(radiance, 1.1 *radiance-0.5))"
   ]
  },
  {
   "cell_type": "code",
   "execution_count": null,
   "id": "598f3cf0-4439-405d-a8e3-2c01ac005892",
   "metadata": {},
   "outputs": [],
   "source": [
    "print(radiance)"
   ]
  },
  {
   "cell_type": "code",
   "execution_count": null,
   "id": "a7d25fa0-1077-4e40-9a47-3ee6e42de76d",
   "metadata": {},
   "outputs": [],
   "source": [
    "# Break down these operations"
   ]
  },
  {
   "cell_type": "code",
   "execution_count": null,
   "id": "dc9f885a-3689-4493-b863-77a2af145c89",
   "metadata": {},
   "outputs": [],
   "source": [
    "radiance= 1.0\n",
    "min_arg_2= 1.1 * radiance-0.5\n",
    "print(min_arg_2)\n",
    "min_result= min(radiance, min_arg_2)\n",
    "radiance= max(2.1, 2.0+min_result)\n",
    "print(radiance)"
   ]
  },
  {
   "cell_type": "markdown",
   "id": "4f2b9011-0432-4fce-ad2f-4d1d6f38a752",
   "metadata": {},
   "source": [
    "# A Brief Interlude with Git"
   ]
  },
  {
   "cell_type": "markdown",
   "id": "0f2ebd4e-8a8f-4aec-a5a4-3fe0e653322f",
   "metadata": {},
   "source": [
    "# Libraries"
   ]
  },
  {
   "cell_type": "code",
   "execution_count": null,
   "id": "25597187-a25a-4452-bbe5-7075c34301eb",
   "metadata": {},
   "outputs": [],
   "source": [
    "import math"
   ]
  },
  {
   "cell_type": "code",
   "execution_count": null,
   "id": "1a65cf5a-be73-4f40-9dd8-c973c5acf1ca",
   "metadata": {},
   "outputs": [],
   "source": [
    "math.pi"
   ]
  },
  {
   "cell_type": "code",
   "execution_count": null,
   "id": "bf24fa46-c3e2-4e4e-ad6b-4043137c5afc",
   "metadata": {},
   "outputs": [],
   "source": [
    "print (math.pi)"
   ]
  },
  {
   "cell_type": "code",
   "execution_count": null,
   "id": "44b9042a-05fc-49eb-b4b3-ddffa2c250e5",
   "metadata": {},
   "outputs": [],
   "source": [
    "print(math.cos(math.pi))"
   ]
  },
  {
   "cell_type": "code",
   "execution_count": null,
   "id": "f5d3e2e9-8fda-466d-9bc8-602f7cbb7673",
   "metadata": {},
   "outputs": [],
   "source": [
    "#get complete help with help()\n",
    "#help(math)\n",
    "\n",
    "#Get a list of options with dir()\n",
    "print(dir(math))"
   ]
  },
  {
   "cell_type": "markdown",
   "id": "b6cdffb0-a25d-476b-8bd0-735e19c01d46",
   "metadata": {},
   "source": [
    "# List"
   ]
  },
  {
   "cell_type": "code",
   "execution_count": null,
   "id": "3dc5dafa-8047-44ef-a662-1e181db8c69e",
   "metadata": {},
   "outputs": [],
   "source": [
    "# A list is an ordered collection of stuff\n",
    "fruits= [\"apple\",\"banana\", \"cherry\", \"date\", \"elderberry\", \"fig\"]"
   ]
  },
  {
   "cell_type": "code",
   "execution_count": null,
   "id": "6a0beb9b-4eca-4a7b-affe-79332c8d64de",
   "metadata": {},
   "outputs": [],
   "source": [
    "len(fruits)"
   ]
  },
  {
   "cell_type": "code",
   "execution_count": null,
   "id": "d3f416e1-5e4f-44c9-93c2-fb8d4257a276",
   "metadata": {},
   "outputs": [],
   "source": [
    "# Lists are indexed by position, counting from 0\n",
    "# First item\n",
    "print(fruits[0])\n",
    "\n",
    "\n",
    "# Fifth item\n",
    "print(fruits[4])"
   ]
  },
  {
   "cell_type": "code",
   "execution_count": null,
   "id": "36074dd2-5e41-48f6-9297-c614658237f0",
   "metadata": {},
   "outputs": [],
   "source": [
    "# Get subsets by slicing the list\n",
    "# Get the first 3 items\n",
    "fruits[0:3]"
   ]
  },
  {
   "cell_type": "code",
   "execution_count": null,
   "id": "0d017029-57ef-4727-b822-8155f623aa30",
   "metadata": {},
   "outputs": [],
   "source": [
    "# Get items by step\n",
    "# Get the first 5 items, every other item\n",
    "fruits[0:5:2]"
   ]
  },
  {
   "cell_type": "code",
   "execution_count": null,
   "id": "c7ff65b6-1f0c-4d5b-bbc7-7e2d5e0290d1",
   "metadata": {},
   "outputs": [],
   "source": [
    "# Get first 5 items, every 3rd item\n",
    "fruits[0:5:3]"
   ]
  },
  {
   "cell_type": "code",
   "execution_count": null,
   "id": "3c0c0f16-dda2-43ed-99ac-03e142e06592",
   "metadata": {},
   "outputs": [],
   "source": [
    "print(len(fruits))"
   ]
  },
  {
   "cell_type": "markdown",
   "id": "b5c2e9bf-5740-4647-adb7-6d3e52524e56",
   "metadata": {},
   "source": [
    "# Challenge\n",
    "What are the following statements doing?\n"
   ]
  },
  {
   "cell_type": "code",
   "execution_count": null,
   "id": "866ee23e-5b55-4037-bc91-3e1d8a7bbc3a",
   "metadata": {},
   "outputs": [],
   "source": [
    "fruits[-1]\n",
    "fruits[20]\n",
    "fruits[-3:]"
   ]
  },
  {
   "cell_type": "code",
   "execution_count": null,
   "id": "5694a5b8-bf96-4357-908b-f859d78bb7d1",
   "metadata": {},
   "outputs": [],
   "source": [
    "print(fruits[-1])\n",
    "print(fruits[20])\n",
    "print(fruits[-3:])"
   ]
  },
  {
   "cell_type": "code",
   "execution_count": null,
   "id": "70fca8f4-53a5-444d-8289-ceef3e8b73b3",
   "metadata": {},
   "outputs": [],
   "source": [
    "print(fruits[:2])\n",
    "print(fruits[2:])\n",
    "print(len(fruits[1:3]))"
   ]
  },
  {
   "cell_type": "markdown",
   "id": "6b0ea4e0-86cd-4ea2-bbfe-e577f1e0fff1",
   "metadata": {},
   "source": [
    "# Adding stuff to lists"
   ]
  },
  {
   "cell_type": "code",
   "execution_count": null,
   "id": "31bbbac1-23b2-4a57-86f0-8ad622eec15f",
   "metadata": {},
   "outputs": [],
   "source": [
    "#Update a specific item\n",
    "print(fruits)\n",
    "\n",
    "fruits[0]=\"apricot\"\n",
    "print(fruits)"
   ]
  },
  {
   "cell_type": "code",
   "execution_count": null,
   "id": "e03e94ae-328e-4875-ad26-b0a75dc2ce9b",
   "metadata": {},
   "outputs": [],
   "source": [
    "# Add new items to the list\n",
    "fruits.append(\"grape\")\n",
    "print(fruits)"
   ]
  },
  {
   "cell_type": "code",
   "execution_count": null,
   "id": "5f2ce0f9-154a-43bb-a15c-e9799dbecc6a",
   "metadata": {},
   "outputs": [],
   "source": [
    "# Add items from a second list to the first list\n",
    "more_fruits= [\"honeydew\",\"imbe\",\"jackfruit\"]\n",
    "fruits.extend(more_fruits)\n",
    "print(fruits)"
   ]
  },
  {
   "cell_type": "code",
   "execution_count": null,
   "id": "a7e180e0-c81d-4252-8311-4f295cc1eb06",
   "metadata": {},
   "outputs": [],
   "source": [
    "# Many functions operate on collections\n",
    "# Assessing our wide recieving corp\n",
    "receiving_yards= [450,370, 870, 150]\n",
    "\n",
    "\n",
    "mean_yards= sum(receiving_yards)/len(receiving_yards)\n",
    "print(mean_yards)"
   ]
  },
  {
   "cell_type": "markdown",
   "id": "b02c6023-b247-4db7-9b59-4a8127b261d2",
   "metadata": {},
   "source": [
    "# For loops"
   ]
  },
  {
   "cell_type": "code",
   "execution_count": null,
   "id": "1dae3bb9-a035-47ce-aa06-a871a0c5b79a",
   "metadata": {},
   "outputs": [],
   "source": [
    "for fruit in fruits: \n",
    "    print(fruit)"
   ]
  },
  {
   "cell_type": "code",
   "execution_count": null,
   "id": "0f829135-abf5-4330-a0c4-fc71c9dd907d",
   "metadata": {},
   "outputs": [],
   "source": [
    "for bob in fruits:\n",
    "    print(bob)"
   ]
  },
  {
   "cell_type": "code",
   "execution_count": null,
   "id": "9592c64b-3477-481e-82b3-71482c4063ba",
   "metadata": {},
   "outputs": [],
   "source": [
    "# Code blocks can contain many statements\n",
    "primes= [2,3,5]\n",
    "for p in primes: \n",
    "    squared= p**2\n",
    "    cubed= p**3\n",
    "    print(p,squared, cubed)"
   ]
  },
  {
   "cell_type": "code",
   "execution_count": null,
   "id": "1677e4b8-1aa0-4a60-8f62-6c598c1d0d13",
   "metadata": {},
   "outputs": [],
   "source": [
    "# Create a new collection from an existing collection\n",
    "primes_squared= []\n",
    "for p in primes:\n",
    "    primes_squared.append(p**2)\n",
    "\n",
    "print(primes_squared)"
   ]
  },
  {
   "cell_type": "markdown",
   "id": "aca76a82-c9c3-488e-a7a6-65a4a2acec1d",
   "metadata": {},
   "source": [
    "## Challenge\n",
    "\n",
    "Get the total length of all of the items in the fruits list"
   ]
  },
  {
   "cell_type": "code",
   "execution_count": null,
   "id": "cca0f8dc-e421-489c-acf4-3b2133f9011b",
   "metadata": {},
   "outputs": [],
   "source": [
    "len(fruits)"
   ]
  },
  {
   "cell_type": "code",
   "execution_count": null,
   "id": "fe91280f-d550-460c-b26e-b58760ebcde0",
   "metadata": {},
   "outputs": [],
   "source": [
    "len(fruits[0:9])"
   ]
  },
  {
   "cell_type": "code",
   "execution_count": null,
   "id": "5f0da0fd-47c5-403e-a4ce-13d4f52d3615",
   "metadata": {},
   "outputs": [],
   "source": [
    "len(fruits[0])"
   ]
  },
  {
   "cell_type": "code",
   "execution_count": null,
   "id": "622b6d23-3646-49b2-8fe4-384d7096402f",
   "metadata": {},
   "outputs": [],
   "source": [
    "len(fruits[1])"
   ]
  },
  {
   "cell_type": "code",
   "execution_count": null,
   "id": "c20cdcbd-2b20-4640-879c-21759b3debbd",
   "metadata": {},
   "outputs": [],
   "source": [
    "len(fruits[0])\n",
    "len(fruits[1])\n",
    "len(fruits[2])\n",
    "len(fruits[3])\n",
    "len(fruits[4])\n",
    "len(fruits[5])"
   ]
  },
  {
   "cell_type": "code",
   "execution_count": null,
   "id": "ebb25ee9-a33f-498d-b22d-433196da4920",
   "metadata": {},
   "outputs": [],
   "source": [
    "print(len(fruits[1]))\n",
    "print(len(fruits[2]))\n",
    "print(len(fruits[3]))\n",
    "print(len(fruits[4]))\n",
    "print(len(fruits[5]))\n",
    "print(len(fruits[6]))\n",
    "print(len(fruits[7]))\n",
    "print(len(fruits[8]))\n",
    "print(len(fruits[9]))\n"
   ]
  },
  {
   "cell_type": "code",
   "execution_count": null,
   "id": "3913f2ff-6017-419a-b89e-96e4f2601794",
   "metadata": {},
   "outputs": [],
   "source": [
    "sum=0\n",
    "\n",
    "for fruit in fruits:\n",
    "    sum=sum+(len(fruit))\n",
    "print(sum)"
   ]
  },
  {
   "cell_type": "code",
   "execution_count": null,
   "id": "680defe4-d346-4dc3-8472-05f56886be64",
   "metadata": {},
   "outputs": [],
   "source": [
    "# Solution 1\n",
    "fruit_lengths=[]\n",
    "for f in fruits:\n",
    "    fruit_lengths.append(len(f))\n",
    "\n",
    "print(fruit_lengths)\n",
    "print(sum(fruit_lengths))"
   ]
  },
  {
   "cell_type": "code",
   "execution_count": null,
   "id": "49e9f9e6-37c0-4e80-9139-57c7cec0a21a",
   "metadata": {},
   "outputs": [],
   "source": []
  }
 ],
 "metadata": {
  "kernelspec": {
   "display_name": "Python 3 (ipykernel)",
   "language": "python",
   "name": "python3"
  },
  "language_info": {
   "codemirror_mode": {
    "name": "ipython",
    "version": 3
   },
   "file_extension": ".py",
   "mimetype": "text/x-python",
   "name": "python",
   "nbconvert_exporter": "python",
   "pygments_lexer": "ipython3",
   "version": "3.12.4"
  }
 },
 "nbformat": 4,
 "nbformat_minor": 5
}
