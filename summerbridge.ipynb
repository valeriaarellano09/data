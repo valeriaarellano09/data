{
 "cells": [
  {
   "cell_type": "code",
   "execution_count": null,
   "id": "a42199b0-c909-430d-87bb-f22b29a0e06e",
   "metadata": {},
   "outputs": [],
   "source": [
    "5-6"
   ]
  },
  {
   "cell_type": "code",
   "execution_count": null,
   "id": "a160ebb5-0227-4473-b13b-f34def854797",
   "metadata": {},
   "outputs": [],
   "source": [
    "print(\"hello\")\n"
   ]
  },
  {
   "cell_type": "code",
   "execution_count": null,
   "id": "792780fb-86bd-47f1-854f-2a427f7a8f1f",
   "metadata": {},
   "outputs": [],
   "source": [
    "print(7)"
   ]
  },
  {
   "cell_type": "code",
   "execution_count": null,
   "id": "fc860146-1e25-47dd-9640-f5f3f8017dd8",
   "metadata": {},
   "outputs": [],
   "source": [
    "name = \"Valeria\"\n",
    "age = 23"
   ]
  },
  {
   "cell_type": "code",
   "execution_count": null,
   "id": "f2bd0772-aae7-4cce-9149-80267a5b7c05",
   "metadata": {},
   "outputs": [],
   "source": [
    "print(age) "
   ]
  },
  {
   "cell_type": "code",
   "execution_count": null,
   "id": "26258d0f-74ac-4973-891d-2b1ed9c56034",
   "metadata": {},
   "outputs": [],
   "source": [
    "# This is a comment. It will not run\n",
    "# You can echo values without using print in this notebook\n",
    "name"
   ]
  },
  {
   "cell_type": "markdown",
   "id": "18dc365c-8843-49ce-b28c-f04308646526",
   "metadata": {},
   "source": [
    "# Variables and Values"
   ]
  },
  {
   "cell_type": "code",
   "execution_count": null,
   "id": "1769bd42-b05c-4015-ac74-816893e92940",
   "metadata": {},
   "outputs": [],
   "source": [
    "# Variables can be used in calculations\n",
    "print(age)\n",
    "age = age + 3\n",
    "print(age)"
   ]
  },
  {
   "cell_type": "code",
   "execution_count": null,
   "id": "da070f16-7972-4ef9-b925-a1faef811b7a",
   "metadata": {},
   "outputs": [],
   "source": [
    "# Order of operations matters!\n",
    "first = 1\n",
    "second = first * 5\n",
    "first = 2\n",
    "\n",
    "print(first)\n",
    "print(second)"
   ]
  },
  {
   "cell_type": "code",
   "execution_count": null,
   "id": "ba071f41-1889-4ffe-bd6a-e6419f9a46f4",
   "metadata": {},
   "outputs": [],
   "source": [
    "#Values have types. Types affect what you can do with them.\n",
    "print(5-3)\n",
    "#print(\"Hello\"-\"H\")"
   ]
  },
  {
   "cell_type": "code",
   "execution_count": null,
   "id": "ee3878a6-b88a-4e0b-b4c2-65cc2bf135e3",
   "metadata": {},
   "outputs": [],
   "source": [
    "print(len(\"hello\"))\n",
    "#print(len(6))"
   ]
  },
  {
   "cell_type": "code",
   "execution_count": null,
   "id": "401d5df6-fe51-4bd8-9471-52572301465f",
   "metadata": {},
   "outputs": [],
   "source": [
    "print(5//3)\n",
    "print(5/3)\n",
    "print(5%3)"
   ]
  },
  {
   "cell_type": "markdown",
   "id": "75ced208-369c-40ce-b042-e1836d0c9519",
   "metadata": {},
   "source": [
    "# Getting help"
   ]
  },
  {
   "cell_type": "code",
   "execution_count": null,
   "id": "494405ff-363a-42be-9dc1-4299c9b794ea",
   "metadata": {},
   "outputs": [],
   "source": [
    "# Rounding numbers is built in\n",
    "round(3.141159)"
   ]
  },
  {
   "cell_type": "code",
   "execution_count": null,
   "id": "10109f4e-0daf-4258-a415-d4f3864a7569",
   "metadata": {},
   "outputs": [],
   "source": [
    "#rount(3.14159, 2)"
   ]
  },
  {
   "cell_type": "code",
   "execution_count": null,
   "id": "a7361491-e42e-40a9-aa99-c98ddb7eb097",
   "metadata": {},
   "outputs": [],
   "source": [
    "round(3.14159,2)"
   ]
  },
  {
   "cell_type": "code",
   "execution_count": null,
   "id": "288af01c-e191-4e5c-86e0-0ef660303864",
   "metadata": {},
   "outputs": [],
   "source": [
    "help(round)"
   ]
  },
  {
   "cell_type": "code",
   "execution_count": null,
   "id": "31a4b008-9363-4906-88d3-06943144053a",
   "metadata": {},
   "outputs": [],
   "source": [
    "#round(3.14159, ndiigits=2)"
   ]
  },
  {
   "cell_type": "code",
   "execution_count": null,
   "id": "566d1e83-60ac-4815-a35b-fd82deaa115b",
   "metadata": {},
   "outputs": [],
   "source": [
    "round(3.14159, ndigits=2)"
   ]
  },
  {
   "cell_type": "code",
   "execution_count": null,
   "id": "ff7c87e6-d3bd-491b-8287-149cd89e2320",
   "metadata": {},
   "outputs": [],
   "source": [
    "#All functions return a new values\n",
    "rounded_pi = round(3.14159,2)\n",
    "print(rounded_pi)"
   ]
  },
  {
   "cell_type": "markdown",
   "id": "3ef11501-9795-4a8d-a4e7-1deca78a2384",
   "metadata": {},
   "source": [
    "## Challenge\n",
    "\n",
    "In what order do the operations happen?\n",
    "\n",
    "radiance= 1.0\n",
    "radiance= max(2.1,2.0 + min(radiance, 1.1 * radiance-0.5))"
   ]
  },
  {
   "cell_type": "code",
   "execution_count": null,
   "id": "e6bbac11-c98a-45ee-ab58-18730aac31cd",
   "metadata": {},
   "outputs": [],
   "source": [
    "radiance= 1.0 \n",
    "radiance=max(2.1,2.0 + min(radiance, 1.1 *radiance-0.5))"
   ]
  },
  {
   "cell_type": "code",
   "execution_count": null,
   "id": "598f3cf0-4439-405d-a8e3-2c01ac005892",
   "metadata": {},
   "outputs": [],
   "source": [
    "print(radiance)"
   ]
  },
  {
   "cell_type": "code",
   "execution_count": null,
   "id": "a7d25fa0-1077-4e40-9a47-3ee6e42de76d",
   "metadata": {},
   "outputs": [],
   "source": [
    "# Break down these operations"
   ]
  },
  {
   "cell_type": "code",
   "execution_count": null,
   "id": "dc9f885a-3689-4493-b863-77a2af145c89",
   "metadata": {},
   "outputs": [],
   "source": [
    "radiance= 1.0\n",
    "min_arg_2= 1.1 * radiance-0.5\n",
    "print(min_arg_2)\n",
    "min_result= min(radiance, min_arg_2)\n",
    "radiance= max(2.1, 2.0+min_result)\n",
    "print(radiance)"
   ]
  },
  {
   "cell_type": "markdown",
   "id": "4f2b9011-0432-4fce-ad2f-4d1d6f38a752",
   "metadata": {},
   "source": [
    "# A Brief Interlude with Git"
   ]
  },
  {
   "cell_type": "code",
   "execution_count": null,
   "id": "fb171959-32da-4b46-b916-b47dd27fa099",
   "metadata": {},
   "outputs": [],
   "source": []
  }
 ],
 "metadata": {
  "kernelspec": {
   "display_name": "Python 3 (ipykernel)",
   "language": "python",
   "name": "python3"
  },
  "language_info": {
   "codemirror_mode": {
    "name": "ipython",
    "version": 3
   },
   "file_extension": ".py",
   "mimetype": "text/x-python",
   "name": "python",
   "nbconvert_exporter": "python",
   "pygments_lexer": "ipython3",
   "version": "3.12.4"
  }
 },
 "nbformat": 4,
 "nbformat_minor": 5
}
